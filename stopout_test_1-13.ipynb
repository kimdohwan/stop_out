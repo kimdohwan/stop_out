{
 "cells": [
  {
   "cell_type": "code",
   "execution_count": 3,
   "metadata": {
    "scrolled": true
   },
   "outputs": [
    {
     "name": "stdout",
     "output_type": "stream",
     "text": [
      "- 민아\n",
      "- 혜리\n",
      "- 유라\n",
      "- 소진\n"
     ]
    }
   ],
   "source": [
    "### 1. 다음 리스트를 사용해 아래와 같은 문자열을 만들어 `girlsday_info`변수에 할당한 후, 콘솔에 내용을 출력하시오. [5점]\n",
    "\n",
    "girlsday_members = ['민아', '혜리', '유라', '소진']\n",
    "\n",
    "for member in girlsday_members:\n",
    "    print('- {}'.format(member))"
   ]
  },
  {
   "cell_type": "code",
   "execution_count": 4,
   "metadata": {},
   "outputs": [
    {
     "name": "stdout",
     "output_type": "stream",
     "text": [
      "[0] RED: Apple\n",
      "[1] YELLOW: Banana\n",
      "[2] GREEN: Melon\n"
     ]
    }
   ],
   "source": [
    "### 2. `fruit_dict`객체를 사용해서 아래와 같은 결과값을 갖는 문자열을 만들어 `fruit_info`변수에 할당 한 후, 콘솔에 내용을 출력하시오. [10점]\n",
    "\n",
    "fruit_dict = {\n",
    "    'red': 'apple',\n",
    "    'yellow': 'banana',\n",
    "    'green': 'melon'\n",
    "}\n",
    "\n",
    "for index, item in enumerate(fruit_dict):\n",
    "    upper_item = item.upper()\n",
    "    cap_value = fruit_dict[item].capitalize()\n",
    "    \n",
    "    print(f'[{index}] {upper_item}: {cap_value}')"
   ]
  },
  {
   "cell_type": "code",
   "execution_count": 5,
   "metadata": {},
   "outputs": [
    {
     "name": "stdout",
     "output_type": "stream",
     "text": [
      "[1, 2, 3, 4]\n",
      "[1, 2, 3]\n",
      "[1, 2, 3, 4]\n",
      "False False\n",
      "True True\n"
     ]
    }
   ],
   "source": [
    "### 3. list의 `copy()`메서드가 하는 일과, `copy()`를 사용하지 않았을 때 발생할 수 있는 오류에 대한 예제 코드를 작성하시오. [10점]\n",
    "\n",
    "# --\n",
    "# 리스트의 copy() 메서드는 함수를 실행하는 당시의 리스트 데이터를 그대로 전달(복사)한다. \n",
    "# x = y 형태의 참조와 같은 경우 y 의 값이 값이 변하면 x 에도 반영되지만,\n",
    "# copy() 의 경우 반영되지 않고 각자 독립된 형태가 된다.\n",
    "\n",
    "# --copy()의 경우 복사해온 원본 객체에 변동사항을 인식하지 않는다\n",
    "# 예제코드(밑)\n",
    "\n",
    "a = [1, 2, 3]\n",
    "\n",
    "b = a.copy()\n",
    "c = a\n",
    "\n",
    "a.append(4)\n",
    "print(a)\n",
    "print(b)\n",
    "print(c)\n",
    "print(a == b, a is b)\n",
    "print(a == c, a is c)\n"
   ]
  },
  {
   "cell_type": "code",
   "execution_count": 6,
   "metadata": {},
   "outputs": [
    {
     "name": "stdout",
     "output_type": "stream",
     "text": [
      "[3, 7, 11, 15, 19, 23, 27]\n"
     ]
    }
   ],
   "source": [
    "### 4. 1에서 30까지의 숫자 중, 3부터 시작해서 4번째마다의 숫자를 가지는 리스트를 생성하시오. [5점]\n",
    "\n",
    "result = []\n",
    "for i in range(3, 31)[::4]:\n",
    "    result.append(i)\n",
    "\n",
    "print(result)"
   ]
  },
  {
   "cell_type": "code",
   "execution_count": 7,
   "metadata": {},
   "outputs": [],
   "source": [
    "### 5. dict형 객체인 `obj`가 있다고 할 때, `obj['key']`와 `obj.get('key')`의 차이를 서술하시오. [5점]\n",
    "\n",
    "# --\n",
    "# obj['key'] 를 실행했을 때,\n",
    "# 해당 값이 없으면 Keyerror\n",
    "\n",
    "# obj.get('key') 를 실행했을 때,\n",
    "# 해당 값이 없으면 None"
   ]
  },
  {
   "cell_type": "code",
   "execution_count": 8,
   "metadata": {},
   "outputs": [
    {
     "name": "stdout",
     "output_type": "stream",
     "text": [
      "('피카츄', '전기 타입') ('파이리', '불 타입') ('꼬부기', '물 타입') ('이상해씨', '풀 타입')\n",
      "피카츄\n",
      "전기 타입\n"
     ]
    }
   ],
   "source": [
    "### 6. 튜플 언패킹에 대해 서술하고, `pokemon_info` 객체를 순회할 때 튜플 언패킹을 사용하는 예제 코드를 작성하시오. [10점]\n",
    "\n",
    "# --\n",
    "# 튜플 언패킹이란, 패킹된 변수에서 값들을 꺼내오는 것\n",
    "\n",
    "# --\n",
    "# 예제코드\n",
    "\n",
    "pokemon_info = [\n",
    "    ('피카츄', '전기 타입'),\n",
    "    ('파이리', '불 타입'),\n",
    "    ('꼬부기', '물 타입'),\n",
    "    ('이상해씨', '풀 타입'),\n",
    "]\n",
    "\n",
    "a, b, c, d = pokemon_info\n",
    "print(a, b, c, d)\n",
    "\n",
    "a1 , a2 = a\n",
    "print(a1)\n",
    "print(a2)"
   ]
  },
  {
   "cell_type": "code",
   "execution_count": 9,
   "metadata": {},
   "outputs": [],
   "source": [
    "### 7. 함수에서 위치인자와 키워드인자의 차이점에 대해 서술하시오. [5점]\n",
    "\n",
    "# --\n",
    "# 위치인자는 값의 이름을 넣어주지 않고 순서(위치)에 맞춰서 값을 입력/대입한다 \n",
    "\n",
    "# 키워드인자는 값의 이름에 '='를 사용해 입력/대입하며 순서(위치)를 지키지 않아도 된다\n",
    "\n"
   ]
  },
  {
   "cell_type": "code",
   "execution_count": 10,
   "metadata": {},
   "outputs": [],
   "source": [
    "### 8. 클래스와 인스턴스의 다음 사항들에 대해 서술하시오.\n",
    "\n",
    "# - 클래스와 인스턴스의 차이점 [2점]\n",
    "\n",
    "# 클래스는 객체를 만들기 위한 기본 틀(붕어빵 틀) 역할을 한다\n",
    "# 인스턴스는 클래스 틀에 맞춰 제작된 객체(붕어빵)이다\n",
    "\n",
    "# - 클래스의 생성자 함수 이름 [1점]\n",
    "\n",
    "# __init__ (self)\n",
    "\n",
    "# - 클래스의 생성자 함수가 호출되는 시점은? [2점]\n",
    "\n",
    "# 클래스가 정의될 때\n",
    "\n",
    "# - 인스턴스 메서드의 `self`매개변수의 의미 [4점]\n",
    "\n",
    "# a 와 b 가 같은 클래스를 가질 때,\n",
    "# name이라는 속성에 접근하기 위해서 self라는 매개변수에 의해 \n",
    "# a 와 b 각자의 name 값을 구할 수 있다\n"
   ]
  },
  {
   "cell_type": "code",
   "execution_count": 11,
   "metadata": {},
   "outputs": [],
   "source": [
    "### 9. `property`를 정의하는 방법에 대해 서술하시오. [5점]\n",
    "\n",
    "# 정의된 메소드 함수 위쪽에 @property를 붙여주고\n",
    "# 의도에 맞춰서 '_' or '__'를 속성값 앞에 붙여준다"
   ]
  },
  {
   "cell_type": "code",
   "execution_count": 12,
   "metadata": {},
   "outputs": [],
   "source": [
    "### 10. 아래와 같은 `User`클래스가 있다. 이 클래스를 상속받은 `Student`클래스를 정의하고, 초기화 메서드에서 `name`과 함께`age`라는 매개변수를 추가로 사용해 인스턴스의 `age`속성을 추가로 정의하도록 한다. [10점]\n",
    "\n",
    "class User:\n",
    "    def __init__(self, name):\n",
    "        self.name = name\n",
    "\n",
    "class Student(User):\n",
    "    def __init__(self, name, age):\n",
    "        super().__init__(name)\n",
    "        self.age = age"
   ]
  },
  {
   "cell_type": "code",
   "execution_count": 16,
   "metadata": {},
   "outputs": [
    {
     "name": "stdout",
     "output_type": "stream",
     "text": [
      "top[#2] 격전을 준비하세요! (수정)\n",
      "top격전 참여시 불건전 행위에 대한 주의사항 안내(수정)\n",
      "대리 게임 등 적발 현황 263차 안내\n",
      "부정행위 프로그램 제재 현황 안내\n",
      "6월 2차 소환사 문화재지킴이 모집 안내\n",
      "일부 클라이언트 오류 현상에 대한 안내 (정상화)\n",
      "6월 6일(수) 서버 점검 안내 (완료)\n",
      "PBE 인사이드 20화(8.12 패치 편) 방송 안내\n",
      "다시 돌아온 격전! 얼불져스 6/5(화) 방송 일정 안내\n",
      "1일 격전 테스트에 참여해 주세요\n",
      "대리 게임 등 적발 현황 262차 안내\n",
      "부정행위 프로그램 제재 현황 안내\n"
     ]
    }
   ],
   "source": [
    "### 11. `url`주소로부터 아래 결과를 출력한다. [10점]\n",
    "\n",
    "from bs4 import BeautifulSoup\n",
    "import lxml\n",
    "import requests\n",
    "\n",
    "url = 'http://www.leagueoflegends.co.kr/?m=news&cate=notice'\n",
    "\n",
    "response = requests.get(url)\n",
    "f = response.text\n",
    "\n",
    "soup = BeautifulSoup(f, 'lxml')\n",
    "\n",
    "a = soup.select('td.tleft > a')\n",
    "for i in a:\n",
    "    print (i.get_text(strip=True))"
   ]
  },
  {
   "cell_type": "code",
   "execution_count": 64,
   "metadata": {},
   "outputs": [
    {
     "name": "stdout",
     "output_type": "stream",
     "text": [
      "top[#2] 격전을 준비하세요! (수정)\n",
      "2018-05-18\n",
      "18,733\n",
      "\n",
      "top격전 참여시 불건전 행위에 대한 주의사항 안내(수정)\n",
      "2018-04-26\n",
      "34,475\n",
      "\n",
      "대리 게임 등 적발 현황 263차 안내\n",
      "2018-06-08\n",
      "5,346\n",
      "\n",
      "부정행위 프로그램 제재 현황 안내\n",
      "2018-06-08\n",
      "2,120\n",
      "\n",
      "6월 2차 소환사 문화재지킴이 모집 안내\n",
      "2018-06-08\n",
      "2,021\n",
      "\n",
      "일부 클라이언트 오류 현상에 대한 안내 (정상화)\n",
      "2018-06-06\n",
      "10,138\n",
      "\n",
      "6월 6일(수) 서버 점검 안내 (완료)\n",
      "2018-06-05\n",
      "40,429\n",
      "\n",
      "PBE 인사이드 20화(8.12 패치 편) 방송 안내\n",
      "2018-06-04\n",
      "9,202\n",
      "\n",
      "다시 돌아온 격전! 얼불져스 6/5(화) 방송 일정 안내\n",
      "2018-06-03\n",
      "14,295\n",
      "\n",
      "1일 격전 테스트에 참여해 주세요\n",
      "2018-06-03\n",
      "16,441\n",
      "\n",
      "대리 게임 등 적발 현황 262차 안내\n",
      "2018-06-01\n",
      "3,222\n",
      "\n",
      "부정행위 프로그램 제재 현황 안내\n",
      "2018-06-01\n",
      "1,219\n",
      "\n"
     ]
    }
   ],
   "source": [
    "### 12. `url`주소에 있는 공지사항에 해당하는 `Notice`클래스를 만들고, 크롤링시 공지사항 하나마다 `Notice`클래스 인스턴스를 만들어 `notice_list`리스트에 추가한다. [10점]\n",
    "\n",
    "\n",
    "class Notice:\n",
    "    def __init__(self, title, date, view):\n",
    "        self.title = title\n",
    "        self.date = date\n",
    "        self.view = view\n",
    "        \n",
    "soup = BeautifulSoup(f, 'lxml')\n",
    "tr_list = soup.select('tr')\n",
    "\n",
    "notice_list = list()\n",
    "for index, tr in enumerate(tr_list[1:]):\n",
    "    title = tr.select_one('a').get_text(strip=True)\n",
    "    date = tr.select('td')[1].string\n",
    "    view = tr.select('td')[2].string\n",
    "    \n",
    "    new_notice = Notice(\n",
    "        title=title,\n",
    "        date=date,\n",
    "        view=view,        \n",
    "    )\n",
    "    \n",
    "    notice_list.append(new_notice)\n",
    "    \n",
    "for notice in notice_list:\n",
    "    print(notice.title)\n",
    "    print(notice.date)\n",
    "    print(notice.view)\n",
    "    print()\n"
   ]
  },
  {
   "cell_type": "code",
   "execution_count": null,
   "metadata": {},
   "outputs": [],
   "source": [
    "### 13. runserver가 localhost:8000에서 입력을 받는 상태로 동작 중일 때, 브라우저에서 `http://localhost:8000/abc/`URL을 입력하면 어떤 절차를 거쳐 사용자에게 다시 화면을 보여주는지 서술하시오. [10점]\n",
    "\n",
    "일단 루트 urls.py 에서  "
   ]
  },
  {
   "cell_type": "code",
   "execution_count": null,
   "metadata": {},
   "outputs": [],
   "source": []
  }
 ],
 "metadata": {
  "kernelspec": {
   "display_name": "Python 3",
   "language": "python",
   "name": "python3"
  },
  "language_info": {
   "codemirror_mode": {
    "name": "ipython",
    "version": 3
   },
   "file_extension": ".py",
   "mimetype": "text/x-python",
   "name": "python",
   "nbconvert_exporter": "python",
   "pygments_lexer": "ipython3",
   "version": "3.6.5"
  }
 },
 "nbformat": 4,
 "nbformat_minor": 2
}
